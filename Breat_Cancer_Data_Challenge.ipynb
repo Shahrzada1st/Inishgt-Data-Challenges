{
 "cells": [
  {
   "cell_type": "markdown",
   "metadata": {},
   "source": [
    "## Problem Statement:\n",
    "### A dataset is provided on breast cell parameters measured on patients with the cell type as being malignant or benign. The objective of this work is to use the features provided and build a product that can help determine if a breast cell is harmful or not given the experimental features. Final results will help doctors make more comprehensive decisions on next steps with their patients' diagnosis."
   ]
  },
  {
   "cell_type": "markdown",
   "metadata": {},
   "source": [
    "## Approach:\n",
    "### Build a classification model that can automatically label the biopsy result as bengin or malignant based on the provided features. Simplify the model using the top features and compare the models on their performance metrics. \n",
    "### In this case, recall has been selected as the point performance metric, since having minimal false negatives is critical for cancer detection."
   ]
  },
  {
   "cell_type": "markdown",
   "metadata": {},
   "source": [
    "## Result:\n"
   ]
  },
  {
   "cell_type": "markdown",
   "metadata": {},
   "source": [
    "#### It has been proved that classification can be performed using the top 5 important features, without major performance loss. That resulted in 45% reduction in testing requirements."
   ]
  },
  {
   "cell_type": "markdown",
   "metadata": {},
   "source": [
    "#### Housekeeping"
   ]
  },
  {
   "cell_type": "code",
   "execution_count": 77,
   "metadata": {},
   "outputs": [],
   "source": [
    "import pandas as pd\n",
    "import numpy as np\n",
    "import matplotlib.pyplot as plt\n",
    "from sklearn.model_selection import train_test_split\n",
    "from sklearn.linear_model import LogisticRegression\n",
    "from sklearn.model_selection import StratifiedKFold\n",
    "from sklearn.model_selection import cross_validate\n",
    "from sklearn.metrics import recall_score, precision_score, f1_score\n",
    "from sklearn.metrics import plot_confusion_matrix\n",
    "from sklearn.feature_selection import RFE\n",
    "%matplotlib inline"
   ]
  },
  {
   "cell_type": "markdown",
   "metadata": {},
   "source": [
    "#### Data clean-up"
   ]
  },
  {
   "cell_type": "code",
   "execution_count": null,
   "metadata": {},
   "outputs": [],
   "source": [
    "# load the dataset\n",
    "data = pd.read_csv('breast-cancer-wisconsin.txt', index_col = 0, header = 0)\n",
    "\n",
    "# Update the dataset type to numeric\n",
    "data = data.apply(pd.to_numeric, errors = \"coerce\", axis = 1)\n",
    "\n",
    "# Get the NaN indices\n",
    "nan_idx = np.unique(np.where(np.isnan(data))[0])\n",
    "\n",
    "nan_ids = data['ID'][nan_idx]\n",
    "# Get the length of rows with NaN values in them\n",
    "print(\"length of rows containing NaNs {}\".format(len(nan_ids)))\n",
    "\n",
    "# Drop null values\n",
    "data.dropna(inplace = True, how = 'any', axis = 0)\n",
    "\n",
    "# Make sure there are only two labels in the class (2,4)\n",
    "data = data[data['Class'].isin([2,4])]\n",
    "\n",
    "# Change label 2 to 0 and label 4 to 1\n",
    "data.loc[data['Class'] == 2, 'Class'] = 0\n",
    "data.loc[data['Class'] == 4, 'Class'] = 1\n",
    "\n",
    "# Drop duplicates in the dataset\n",
    "data.drop_duplicates(inplace = True)\n",
    "\n",
    "# Print the length of dataset for class 0 and 1\n",
    "print(\"length of class 0: {}, length of class 1: {}\".format(len(data[data['Class'] == 0]), len(data[data['Class'] == 1])))"
   ]
  },
  {
   "cell_type": "markdown",
   "metadata": {},
   "source": [
    "#### Data visualization"
   ]
  },
  {
   "cell_type": "code",
   "execution_count": 15,
   "metadata": {},
   "outputs": [
    {
     "data": {
      "image/png": "[encoded data removed]",
      "text/plain": [
       "<Figure size 432x288 with 1 Axes>"
      ]
     },
     "metadata": {
      "needs_background": "light"
     },
     "output_type": "display_data"
    },
    {
     "data": {
      "image/png": "[encoded data removed]",
      "text/plain": [
       "<Figure size 432x288 with 1 Axes>"
      ]
     },
     "metadata": {},
     "output_type": "display_data"
    }
   ],
   "source": [
    "class_0 = data[data['Class'] == 0]\n",
    "class_1 = data[data['Class'] == 1]\n",
    "plt.bar(x = [1,2], height = [len(class_0), len(class_1)], tick_label = ['benign', 'malignant'])\n",
    "plt.ylabel('class labels size')\n",
    "plt.show()\n",
    "\n",
    "plt.pie([len(class_0), len(class_1)], labels = ['benign', 'malignant'])\n",
    "plt.show()"
   ]
  },
  {
   "cell_type": "markdown",
   "metadata": {},
   "source": [
    "#### Feature exploration\n",
    "##### In order to understand which features are driving the malignancy, let's calculate Pearson correlation of each feature."
   ]
  },
  {
   "cell_type": "code",
   "execution_count": 32,
   "metadata": {},
   "outputs": [
    {
     "data": {
      "image/png": "[encoded data removed]",
      "text/plain": [
       "<Figure size 432x288 with 1 Axes>"
      ]
     },
     "metadata": {
      "needs_background": "light"
     },
     "output_type": "display_data"
    }
   ],
   "source": [
    "# Comput correlation\n",
    "class_corr = data.corr(method = 'pearson')['Class']\n",
    "\n",
    "# Drop columns ID and Class\n",
    "class_corr = class_corr.drop(index = ['ID', 'Class'])\n",
    "\n",
    "# Get class_corr indices\n",
    "class_corr_idx = np.argsort(np.abs(class_corr))\n",
    "\n",
    "# Plot feature correlation\n",
    "plt.barh(range(len(class_corr_idx)), class_corr[class_corr_idx], color = 'lightblue', align = 'center')\n",
    "plt.yticks(range(len(class_corr_idx)), [class_corr.index[i] for i in class_corr_idx])\n",
    "plt.title(\"Pearson Correlation for the Features\")\n",
    "plt.show()"
   ]
  },
  {
   "cell_type": "code",
   "execution_count": 30,
   "metadata": {},
   "outputs": [
    {
     "data": {
      "text/plain": [
       "Clump Thickness                8\n",
       "Uniformity of Cell Size        4\n",
       "Uniformity of Cell Shape       3\n",
       "Marginal Adhesion              0\n",
       "Single Epithelial Cell Size    7\n",
       "Bare Nuclei                    6\n",
       "Bland Chromatin                5\n",
       "Normal Nucleoli                1\n",
       "Mitoses                        2\n",
       "Name: Class, dtype: int64"
      ]
     },
     "execution_count": 30,
     "metadata": {},
     "output_type": "execute_result"
    }
   ],
   "source": [
    "class_corr_idx"
   ]
  },
  {
   "cell_type": "markdown",
   "metadata": {},
   "source": [
    "#### Model fitting\n",
    "##### Building a basic model first"
   ]
  },
  {
   "cell_type": "code",
   "execution_count": 57,
   "metadata": {},
   "outputs": [
    {
     "name": "stdout",
     "output_type": "stream",
     "text": [
      "Mean cross-validation scores: {'fit_time': 0.014, 'score_time': 0.01, 'test_f1': 0.955, 'test_precision': 0.969, 'test_recall': 0.942, 'test_roc_auc': 0.994}\n"
     ]
    },
    {
     "data": {
      "text/html": [
       "<div>\n",
       "<style scoped>\n",
       "    .dataframe tbody tr th:only-of-type {\n",
       "        vertical-align: middle;\n",
       "    }\n",
       "\n",
       "    .dataframe tbody tr th {\n",
       "        vertical-align: top;\n",
       "    }\n",
       "\n",
       "    .dataframe thead th {\n",
       "        text-align: right;\n",
       "    }\n",
       "</style>\n",
       "<table border=\"1\" class=\"dataframe\">\n",
       "  <thead>\n",
       "    <tr style=\"text-align: right;\">\n",
       "      <th></th>\n",
       "      <th>fit_time</th>\n",
       "      <th>score_time</th>\n",
       "      <th>test_f1</th>\n",
       "      <th>test_precision</th>\n",
       "      <th>test_recall</th>\n",
       "      <th>test_roc_auc</th>\n",
       "    </tr>\n",
       "  </thead>\n",
       "  <tbody>\n",
       "    <tr>\n",
       "      <td>0</td>\n",
       "      <td>0.015</td>\n",
       "      <td>0.012</td>\n",
       "      <td>0.923</td>\n",
       "      <td>0.900</td>\n",
       "      <td>0.947</td>\n",
       "      <td>0.978</td>\n",
       "    </tr>\n",
       "    <tr>\n",
       "      <td>1</td>\n",
       "      <td>0.018</td>\n",
       "      <td>0.008</td>\n",
       "      <td>0.959</td>\n",
       "      <td>1.000</td>\n",
       "      <td>0.921</td>\n",
       "      <td>0.999</td>\n",
       "    </tr>\n",
       "    <tr>\n",
       "      <td>2</td>\n",
       "      <td>0.012</td>\n",
       "      <td>0.008</td>\n",
       "      <td>0.960</td>\n",
       "      <td>0.973</td>\n",
       "      <td>0.947</td>\n",
       "      <td>0.999</td>\n",
       "    </tr>\n",
       "    <tr>\n",
       "      <td>3</td>\n",
       "      <td>0.016</td>\n",
       "      <td>0.008</td>\n",
       "      <td>0.959</td>\n",
       "      <td>0.972</td>\n",
       "      <td>0.946</td>\n",
       "      <td>0.997</td>\n",
       "    </tr>\n",
       "    <tr>\n",
       "      <td>4</td>\n",
       "      <td>0.012</td>\n",
       "      <td>0.012</td>\n",
       "      <td>0.972</td>\n",
       "      <td>1.000</td>\n",
       "      <td>0.946</td>\n",
       "      <td>1.000</td>\n",
       "    </tr>\n",
       "  </tbody>\n",
       "</table>\n",
       "</div>"
      ],
      "text/plain": [
       "   fit_time  score_time  test_f1  test_precision  test_recall  test_roc_auc\n",
       "0     0.015       0.012    0.923           0.900        0.947         0.978\n",
       "1     0.018       0.008    0.959           1.000        0.921         0.999\n",
       "2     0.012       0.008    0.960           0.973        0.947         0.999\n",
       "3     0.016       0.008    0.959           0.972        0.946         0.997\n",
       "4     0.012       0.012    0.972           1.000        0.946         1.000"
      ]
     },
     "execution_count": 57,
     "metadata": {},
     "output_type": "execute_result"
    }
   ],
   "source": [
    "input_cols = ['Clump Thickness', 'Uniformity of Cell Size',\n",
    "       'Uniformity of Cell Shape', 'Marginal Adhesion',\n",
    "       'Single Epithelial Cell Size', 'Bare Nuclei', 'Bland Chromatin',\n",
    "       'Normal Nucleoli', 'Mitoses']\n",
    "\n",
    "X = data[input_cols]\n",
    "y = data['Class']\n",
    "\n",
    "X_train, X_test, y_train, y_test = train_test_split(X, y, test_size = 0.2, shuffle = True, stratify = y, random_state = 42)\n",
    "\n",
    "# Build a logistic regression model\n",
    "lg_reg = LogisticRegression(penalty = 'none', solver = 'lbfgs')\n",
    "metrics = ['f1', 'precision', 'recall', 'roc_auc']\n",
    "splitter = StratifiedKFold(n_splits = 5, shuffle = True, random_state = 42)\n",
    "cv_scores = cross_validate(lg_reg, X_train, y_train, cv = splitter, scoring = metrics)\n",
    "\n",
    "score_means = {k: np.round(np.mean(v),3) for k,v in cv_scores.items()}\n",
    "score = {k:v for k,v in cv_scores.items()}\n",
    "scores = pd.DataFrame(score).round(3)\n",
    "\n",
    "print(\"Mean cross-validation scores:\", score_means)\n",
    "\n",
    "scores"
   ]
  },
  {
   "cell_type": "code",
   "execution_count": 65,
   "metadata": {},
   "outputs": [
    {
     "data": {
      "text/html": [
       "<div>\n",
       "<style scoped>\n",
       "    .dataframe tbody tr th:only-of-type {\n",
       "        vertical-align: middle;\n",
       "    }\n",
       "\n",
       "    .dataframe tbody tr th {\n",
       "        vertical-align: top;\n",
       "    }\n",
       "\n",
       "    .dataframe thead th {\n",
       "        text-align: right;\n",
       "    }\n",
       "</style>\n",
       "<table border=\"1\" class=\"dataframe\">\n",
       "  <thead>\n",
       "    <tr style=\"text-align: right;\">\n",
       "      <th></th>\n",
       "      <th>Full recall scores</th>\n",
       "      <th>Full precision scores</th>\n",
       "      <th>Full f1 scores</th>\n",
       "    </tr>\n",
       "  </thead>\n",
       "  <tbody>\n",
       "    <tr>\n",
       "      <td>0</td>\n",
       "      <td>0.886792</td>\n",
       "      <td>1.0</td>\n",
       "      <td>0.94</td>\n",
       "    </tr>\n",
       "  </tbody>\n",
       "</table>\n",
       "</div>"
      ],
      "text/plain": [
       "   Full recall scores  Full precision scores  Full f1 scores\n",
       "0            0.886792                    1.0            0.94"
      ]
     },
     "execution_count": 65,
     "metadata": {},
     "output_type": "execute_result"
    }
   ],
   "source": [
    "# Validation\n",
    "lg_reg.fit(X_train, y_train)\n",
    "y_predict = lg_reg.predict(X_test)\n",
    "\n",
    "full_model_scores = pd.DataFrame({'Full recall scores': [recall_score(y_predict, y_test)], \n",
    "                                'Full precision scores': [precision_score(y_predict, y_test)],\n",
    "                                'Full f1 scores': [f1_score(y_predict, y_test)]})\n",
    "\n",
    "full_model_scores"
   ]
  },
  {
   "cell_type": "code",
   "execution_count": 67,
   "metadata": {},
   "outputs": [
    {
     "data": {
      "text/plain": [
       "<sklearn.metrics._plot.confusion_matrix.ConfusionMatrixDisplay at 0x1dd752f5788>"
      ]
     },
     "execution_count": 67,
     "metadata": {},
     "output_type": "execute_result"
    },
    {
     "data": {
      "image/png": "[encoded data removed]",
      "text/plain": [
       "<Figure size 432x288 with 2 Axes>"
      ]
     },
     "metadata": {
      "needs_background": "light"
     },
     "output_type": "display_data"
    }
   ],
   "source": [
    "plot_confusion_matrix(lg_reg, X_test, y_test)"
   ]
  },
  {
   "cell_type": "code",
   "execution_count": 76,
   "metadata": {},
   "outputs": [
    {
     "data": {
      "image/png": "[encoded data removed]",
      "text/plain": [
       "<Figure size 432x288 with 1 Axes>"
      ]
     },
     "metadata": {
      "needs_background": "light"
     },
     "output_type": "display_data"
    }
   ],
   "source": [
    "params = pd.Series(lg_reg.coef_[0], index = X.columns)\n",
    "params = params.sort_values()\n",
    "\n",
    "features = pd.DataFrame({'effect': params.round(3)})\n",
    "\n",
    "plt.barh(range(len(features.index)), features['effect'], color = 'lightblue', align = 'center')\n",
    "plt.yticks(range(len(features)), features.index)\n",
    "plt.title(\"Featurr importances\")\n",
    "plt.show()\n",
    "\n",
    "\n",
    "\n",
    "\n"
   ]
  },
  {
   "cell_type": "markdown",
   "metadata": {},
   "source": [
    "#### Zero false negatives!"
   ]
  },
  {
   "cell_type": "code",
   "execution_count": null,
   "metadata": {},
   "outputs": [],
   "source": [
    "# Get important features\n",
    "importances = lg_reg.feature_importances_\n",
    "imp_indices = np.argsort(importances)\n",
    "plt.title(\"Feature Importances\")\n",
    "plt.barh(range(len(imp_indices)), importances[imp_indices], align = 'center')\n",
    "plt.yticks(range(len(imp_indices)), [input_cols[i] for i in imp_indices])\n",
    "plt.xlabel('importance')\n",
    "plt.show()"
   ]
  },
  {
   "cell_type": "markdown",
   "metadata": {},
   "source": [
    "#### Feature selection"
   ]
  },
  {
   "cell_type": "code",
   "execution_count": 82,
   "metadata": {},
   "outputs": [
    {
     "data": {
      "text/html": [
       "<div>\n",
       "<style scoped>\n",
       "    .dataframe tbody tr th:only-of-type {\n",
       "        vertical-align: middle;\n",
       "    }\n",
       "\n",
       "    .dataframe tbody tr th {\n",
       "        vertical-align: top;\n",
       "    }\n",
       "\n",
       "    .dataframe thead th {\n",
       "        text-align: right;\n",
       "    }\n",
       "</style>\n",
       "<table border=\"1\" class=\"dataframe\">\n",
       "  <thead>\n",
       "    <tr style=\"text-align: right;\">\n",
       "      <th></th>\n",
       "      <th>0</th>\n",
       "      <th>1</th>\n",
       "      <th>2</th>\n",
       "      <th>3</th>\n",
       "      <th>4</th>\n",
       "    </tr>\n",
       "  </thead>\n",
       "  <tbody>\n",
       "    <tr>\n",
       "      <td>0</td>\n",
       "      <td>Bland Chromatin</td>\n",
       "      <td>Clump Thickness</td>\n",
       "      <td>Marginal Adhesion</td>\n",
       "      <td>Mitoses</td>\n",
       "      <td>Uniformity of Cell Shape</td>\n",
       "    </tr>\n",
       "    <tr>\n",
       "      <td>1</td>\n",
       "      <td>Bare Nuclei</td>\n",
       "      <td>Bland Chromatin</td>\n",
       "      <td>Clump Thickness</td>\n",
       "      <td>Uniformity of Cell Shape</td>\n",
       "      <td>Uniformity of Cell Size</td>\n",
       "    </tr>\n",
       "    <tr>\n",
       "      <td>2</td>\n",
       "      <td>Bare Nuclei</td>\n",
       "      <td>Bland Chromatin</td>\n",
       "      <td>Mitoses</td>\n",
       "      <td>Single Epithelial Cell Size</td>\n",
       "      <td>Uniformity of Cell Shape</td>\n",
       "    </tr>\n",
       "    <tr>\n",
       "      <td>3</td>\n",
       "      <td>Bare Nuclei</td>\n",
       "      <td>Clump Thickness</td>\n",
       "      <td>Marginal Adhesion</td>\n",
       "      <td>Mitoses</td>\n",
       "      <td>Uniformity of Cell Shape</td>\n",
       "    </tr>\n",
       "    <tr>\n",
       "      <td>4</td>\n",
       "      <td>Bland Chromatin</td>\n",
       "      <td>Clump Thickness</td>\n",
       "      <td>Mitoses</td>\n",
       "      <td>Normal Nucleoli</td>\n",
       "      <td>Uniformity of Cell Shape</td>\n",
       "    </tr>\n",
       "    <tr>\n",
       "      <td>5</td>\n",
       "      <td>Bland Chromatin</td>\n",
       "      <td>Clump Thickness</td>\n",
       "      <td>Marginal Adhesion</td>\n",
       "      <td>Normal Nucleoli</td>\n",
       "      <td>Uniformity of Cell Shape</td>\n",
       "    </tr>\n",
       "    <tr>\n",
       "      <td>6</td>\n",
       "      <td>Bare Nuclei</td>\n",
       "      <td>Bland Chromatin</td>\n",
       "      <td>Clump Thickness</td>\n",
       "      <td>Mitoses</td>\n",
       "      <td>Uniformity of Cell Shape</td>\n",
       "    </tr>\n",
       "    <tr>\n",
       "      <td>7</td>\n",
       "      <td>Bare Nuclei</td>\n",
       "      <td>Clump Thickness</td>\n",
       "      <td>Mitoses</td>\n",
       "      <td>Normal Nucleoli</td>\n",
       "      <td>Uniformity of Cell Shape</td>\n",
       "    </tr>\n",
       "    <tr>\n",
       "      <td>8</td>\n",
       "      <td>Bare Nuclei</td>\n",
       "      <td>Bland Chromatin</td>\n",
       "      <td>Clump Thickness</td>\n",
       "      <td>Mitoses</td>\n",
       "      <td>Uniformity of Cell Shape</td>\n",
       "    </tr>\n",
       "    <tr>\n",
       "      <td>9</td>\n",
       "      <td>Bare Nuclei</td>\n",
       "      <td>Bland Chromatin</td>\n",
       "      <td>Clump Thickness</td>\n",
       "      <td>Mitoses</td>\n",
       "      <td>Uniformity of Cell Shape</td>\n",
       "    </tr>\n",
       "  </tbody>\n",
       "</table>\n",
       "</div>"
      ],
      "text/plain": [
       "                 0                1                  2  \\\n",
       "0  Bland Chromatin  Clump Thickness  Marginal Adhesion   \n",
       "1      Bare Nuclei  Bland Chromatin    Clump Thickness   \n",
       "2      Bare Nuclei  Bland Chromatin            Mitoses   \n",
       "3      Bare Nuclei  Clump Thickness  Marginal Adhesion   \n",
       "4  Bland Chromatin  Clump Thickness            Mitoses   \n",
       "5  Bland Chromatin  Clump Thickness  Marginal Adhesion   \n",
       "6      Bare Nuclei  Bland Chromatin    Clump Thickness   \n",
       "7      Bare Nuclei  Clump Thickness            Mitoses   \n",
       "8      Bare Nuclei  Bland Chromatin    Clump Thickness   \n",
       "9      Bare Nuclei  Bland Chromatin    Clump Thickness   \n",
       "\n",
       "                             3                         4  \n",
       "0                      Mitoses  Uniformity of Cell Shape  \n",
       "1     Uniformity of Cell Shape   Uniformity of Cell Size  \n",
       "2  Single Epithelial Cell Size  Uniformity of Cell Shape  \n",
       "3                      Mitoses  Uniformity of Cell Shape  \n",
       "4              Normal Nucleoli  Uniformity of Cell Shape  \n",
       "5              Normal Nucleoli  Uniformity of Cell Shape  \n",
       "6                      Mitoses  Uniformity of Cell Shape  \n",
       "7              Normal Nucleoli  Uniformity of Cell Shape  \n",
       "8                      Mitoses  Uniformity of Cell Shape  \n",
       "9                      Mitoses  Uniformity of Cell Shape  "
      ]
     },
     "execution_count": 82,
     "metadata": {},
     "output_type": "execute_result"
    }
   ],
   "source": [
    "#Recursive feature selection with cross-validation\n",
    "estimator = LogisticRegression(penalty='none', solver = 'lbfgs', fit_intercept=True)\n",
    "selector = RFE(estimator, n_features_to_select = 5)\n",
    "cv = cross_validate(selector, X=X_train, y=y_train, scoring=['recall', 'precision', 'f1'], cv=StratifiedKFold(10),\n",
    "                   return_estimator=True)\n",
    "\n",
    "selected_features = pd.DataFrame([sorted(X_train.columns[feats.get_support()].values) for feats in cv['estimator']])\n",
    "rfe_recall = cv['test_recall']\n",
    "rfe_precision = cv['test_precision']\n",
    "rfe_recall = cv['test_f1']\n",
    "\n",
    "df = pd.concat([pd.DataFrame({\"recall\": rfe_recall.round(3), 'precision': rfe_precision.round(3)}), selected_features], axis = 1)\n",
    "\n",
    "selected_features"
   ]
  },
  {
   "cell_type": "markdown",
   "metadata": {},
   "source": [
    "##### Pick the top 5 majority features"
   ]
  },
  {
   "cell_type": "code",
   "execution_count": 81,
   "metadata": {},
   "outputs": [
    {
     "data": {
      "text/plain": [
       "array(['Uniformity of Cell Shape', 'Clump Thickness', 'Bland Chromatin',\n",
       "       'Mitoses', 'Bare Nuclei'], dtype=object)"
      ]
     },
     "execution_count": 81,
     "metadata": {},
     "output_type": "execute_result"
    }
   ],
   "source": [
    "reduced_features = selected_features.melt().groupby('value').count().sort_values('variable', ascending=False).iloc[0:5, :].index.values\n",
    "reduced_features"
   ]
  },
  {
   "cell_type": "markdown",
   "metadata": {},
   "source": [
    "##### Partial model, now classify the dataset using the top 5 features."
   ]
  },
  {
   "cell_type": "code",
   "execution_count": 83,
   "metadata": {},
   "outputs": [
    {
     "data": {
      "text/html": [
       "<div>\n",
       "<style scoped>\n",
       "    .dataframe tbody tr th:only-of-type {\n",
       "        vertical-align: middle;\n",
       "    }\n",
       "\n",
       "    .dataframe tbody tr th {\n",
       "        vertical-align: top;\n",
       "    }\n",
       "\n",
       "    .dataframe thead th {\n",
       "        text-align: right;\n",
       "    }\n",
       "</style>\n",
       "<table border=\"1\" class=\"dataframe\">\n",
       "  <thead>\n",
       "    <tr style=\"text-align: right;\">\n",
       "      <th></th>\n",
       "      <th>Full recall scores</th>\n",
       "      <th>Full precision scores</th>\n",
       "      <th>Full f1 scores</th>\n",
       "      <th>partial model recall</th>\n",
       "      <th>partial model precision</th>\n",
       "    </tr>\n",
       "  </thead>\n",
       "  <tbody>\n",
       "    <tr>\n",
       "      <td>0</td>\n",
       "      <td>0.886792</td>\n",
       "      <td>1.0</td>\n",
       "      <td>0.94</td>\n",
       "      <td>0.902</td>\n",
       "      <td>0.979</td>\n",
       "    </tr>\n",
       "  </tbody>\n",
       "</table>\n",
       "</div>"
      ],
      "text/plain": [
       "   Full recall scores  Full precision scores  Full f1 scores  \\\n",
       "0            0.886792                    1.0            0.94   \n",
       "\n",
       "   partial model recall  partial model precision  \n",
       "0                 0.902                    0.979  "
      ]
     },
     "execution_count": 83,
     "metadata": {},
     "output_type": "execute_result"
    }
   ],
   "source": [
    "partial_model = LogisticRegression(penalty = \"none\")\n",
    "partial_model.fit(X_train.loc[:, reduced_features],y_train)\n",
    "y_predict = partial_model.predict(X_test.loc[:,reduced_features])\n",
    "partial_model_scores = pd.DataFrame({\"partial model recall\": [recall_score(y_predict, y_test)], \n",
    "                                    \"partial model precision\":[precision_score(y_predict, y_test)]}).round(3)\n",
    "\n",
    "partial_model_scores\n",
    "pd.concat([full_model_scores, partial_model_scores], axis = 1)"
   ]
  },
  {
   "cell_type": "code",
   "execution_count": 85,
   "metadata": {},
   "outputs": [
    {
     "data": {
      "text/plain": [
       "<sklearn.metrics._plot.confusion_matrix.ConfusionMatrixDisplay at 0x1dd756988c8>"
      ]
     },
     "execution_count": 85,
     "metadata": {},
     "output_type": "execute_result"
    },
    {
     "data": {
      "image/png": "[encoded data removed]",
      "text/plain": [
       "<Figure size 432x288 with 2 Axes>"
      ]
     },
     "metadata": {
      "needs_background": "light"
     },
     "output_type": "display_data"
    }
   ],
   "source": [
    "plot_confusion_matrix(partial_model, X_test.loc[:,reduced_features], y_test)"
   ]
  },
  {
   "cell_type": "markdown",
   "metadata": {},
   "source": [
    "##### Only false negative!"
   ]
  },
  {
   "cell_type": "markdown",
   "metadata": {},
   "source": [
    "#### By picking the top 5 important features, testing requirements is dropped by 45%, while there is minimal loss in classification performance."
   ]
  },
  {
   "cell_type": "code",
   "execution_count": null,
   "metadata": {},
   "outputs": [],
   "source": []
  }
 ],
 "metadata": {
  "kernelspec": {
   "display_name": "Python 3",
   "language": "python",
   "name": "python3"
  },
  "language_info": {
   "codemirror_mode": {
    "name": "ipython",
    "version": 3
   },
   "file_extension": ".py",
   "mimetype": "text/x-python",
   "name": "python",
   "nbconvert_exporter": "python",
   "pygments_lexer": "ipython3",
   "version": "3.7.4"
  }
 },
 "nbformat": 4,
 "nbformat_minor": 2
}
